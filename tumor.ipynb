{
 "cells": [
  {
   "cell_type": "code",
   "execution_count": 1,
   "id": "6f52a755",
   "metadata": {
    "run_control": {
     "marked": true
    }
   },
   "outputs": [],
   "source": [
    "import warnings\n",
    "warnings.filterwarnings('ignore')"
   ]
  },
  {
   "cell_type": "code",
   "execution_count": 2,
   "id": "530adc46",
   "metadata": {
    "run_control": {
     "marked": true
    }
   },
   "outputs": [],
   "source": [
    "import numpy as np\n",
    "import matplotlib.pyplot as plt\n",
    "import os \n",
    "import math\n",
    "import shutil\n",
    "import glob"
   ]
  },
  {
   "cell_type": "code",
   "execution_count": 3,
   "id": "bec32951",
   "metadata": {
    "code_folding": [],
    "run_control": {
     "marked": true
    }
   },
   "outputs": [],
   "source": [
    "Root_dir = \"./brain_tumor_dataset/\"\n",
    "number_images = {}\n",
    "for dir in os.listdir(Root_dir):\n",
    "    number_images[dir] = len(os.listdir(os.path.join(Root_dir, dir)))"
   ]
  },
  {
   "cell_type": "code",
   "execution_count": 4,
   "id": "572d4003",
   "metadata": {
    "run_control": {
     "marked": true
    }
   },
   "outputs": [
    {
     "data": {
      "text/plain": [
       "dict_items([('no', 6), ('yes', 4)])"
      ]
     },
     "execution_count": 4,
     "metadata": {},
     "output_type": "execute_result"
    }
   ],
   "source": [
    "number_images.items()"
   ]
  },
  {
   "cell_type": "code",
   "execution_count": 5,
   "id": "340be93f",
   "metadata": {
    "run_control": {
     "marked": true
    }
   },
   "outputs": [],
   "source": [
    "# 75% data - train\n",
    "# 15% data - val\n",
    "# 15% data - test\n",
    "\n",
    "def foldercreate(path , percent):\n",
    "    if not os.path.exists(\"./\"+path):\n",
    "        os.mkdir(\"./\"+path)\n",
    "        \n",
    "        for dir in os.listdir(Root_dir):\n",
    "            os.makedirs(\"./\"+path+\"/\"+dir)\n",
    "            \n",
    "            for img in np.random.choice(a=os.listdir(os.path.join(Root_dir,dir)), size =(math.floor(percent*number_images[dir])-2 ), replace = False):\n",
    "                O = os.path.join(Root_dir,dir,img)\n",
    "                D = os.path.join(\"./\"+path , dir)\n",
    "                shutil.copy(O,D)\n",
    "                os.remove(O)\n",
    "    else:\n",
    "        print(\"Folder Already Exists\")"
   ]
  },
  {
   "cell_type": "code",
   "execution_count": 6,
   "id": "961a8b4d",
   "metadata": {
    "run_control": {
     "marked": true
    }
   },
   "outputs": [
    {
     "name": "stdout",
     "output_type": "stream",
     "text": [
      "Folder Already Exists\n"
     ]
    }
   ],
   "source": [
    "foldercreate(\"train\" , 0.75)"
   ]
  },
  {
   "cell_type": "code",
   "execution_count": 7,
   "id": "f95c4dae",
   "metadata": {
    "run_control": {
     "marked": true
    }
   },
   "outputs": [
    {
     "name": "stdout",
     "output_type": "stream",
     "text": [
      "Folder Already Exists\n"
     ]
    }
   ],
   "source": [
    "foldercreate(\"val\",0.15)"
   ]
  },
  {
   "cell_type": "code",
   "execution_count": 8,
   "id": "61213327",
   "metadata": {
    "run_control": {
     "marked": true
    }
   },
   "outputs": [
    {
     "name": "stdout",
     "output_type": "stream",
     "text": [
      "Folder Already Exists\n"
     ]
    }
   ],
   "source": [
    "foldercreate(\"test\",0.15)"
   ]
  },
  {
   "cell_type": "markdown",
   "id": "435f76f7",
   "metadata": {
    "run_control": {
     "marked": true
    }
   },
   "source": [
    "Model Build"
   ]
  },
  {
   "cell_type": "code",
   "execution_count": 9,
   "id": "4091aa87",
   "metadata": {},
   "outputs": [],
   "source": [
    "from keras.layers import Conv2D,  MaxPool2D , Dropout , Flatten , Dense , BatchNormalization , GlobalAvgPool2D\n",
    "from keras.models import Sequential\n",
    "from keras.preprocessing.image import load_img , img_to_array , ImageDataGenerator\n",
    "import keras"
   ]
  },
  {
   "cell_type": "code",
   "execution_count": 10,
   "id": "38f25a5e",
   "metadata": {},
   "outputs": [
    {
     "name": "stderr",
     "output_type": "stream",
     "text": [
      "2022-06-06 15:39:46.261315: I tensorflow/core/platform/cpu_feature_guard.cc:151] This TensorFlow binary is optimized with oneAPI Deep Neural Network Library (oneDNN) to use the following CPU instructions in performance-critical operations:  AVX2 FMA\n",
      "To enable them in other operations, rebuild TensorFlow with the appropriate compiler flags.\n"
     ]
    },
    {
     "name": "stdout",
     "output_type": "stream",
     "text": [
      "Model: \"sequential\"\n",
      "_________________________________________________________________\n",
      " Layer (type)                Output Shape              Param #   \n",
      "=================================================================\n",
      " conv2d (Conv2D)             (None, 222, 222, 16)      448       \n",
      "                                                                 \n",
      " conv2d_1 (Conv2D)           (None, 220, 220, 36)      5220      \n",
      "                                                                 \n",
      " max_pooling2d (MaxPooling2D  (None, 110, 110, 36)     0         \n",
      " )                                                               \n",
      "                                                                 \n",
      " conv2d_2 (Conv2D)           (None, 108, 108, 64)      20800     \n",
      "                                                                 \n",
      " max_pooling2d_1 (MaxPooling  (None, 54, 54, 64)       0         \n",
      " 2D)                                                             \n",
      "                                                                 \n",
      " conv2d_3 (Conv2D)           (None, 52, 52, 128)       73856     \n",
      "                                                                 \n",
      " max_pooling2d_2 (MaxPooling  (None, 26, 26, 128)      0         \n",
      " 2D)                                                             \n",
      "                                                                 \n",
      " dropout (Dropout)           (None, 26, 26, 128)       0         \n",
      "                                                                 \n",
      " flatten (Flatten)           (None, 86528)             0         \n",
      "                                                                 \n",
      " dense (Dense)               (None, 64)                5537856   \n",
      "                                                                 \n",
      " dropout_1 (Dropout)         (None, 64)                0         \n",
      "                                                                 \n",
      " dense_1 (Dense)             (None, 1)                 65        \n",
      "                                                                 \n",
      "=================================================================\n",
      "Total params: 5,638,245\n",
      "Trainable params: 5,638,245\n",
      "Non-trainable params: 0\n",
      "_________________________________________________________________\n"
     ]
    }
   ],
   "source": [
    "model = Sequential()\n",
    "model.add(Conv2D(filters=16 , kernel_size=(3,3) , activation='relu' , input_shape = (224,224,3)))\n",
    "model.add(Conv2D(filters=36 , kernel_size=(3,3) , activation='relu'))\n",
    "model.add(MaxPool2D(pool_size=(2,2)))\n",
    "          \n",
    "model.add(Conv2D(filters=64 , kernel_size=(3,3) , activation='relu'))\n",
    "model.add(MaxPool2D(pool_size=(2,2)))\n",
    "          \n",
    "model.add(Conv2D(filters=128 , kernel_size=(3,3) , activation='relu'))\n",
    "model.add(MaxPool2D(pool_size=(2,2)))\n",
    "          \n",
    "model.add(Dropout(rate=0.25))\n",
    "model.add(Flatten())\n",
    "model.add(Dense(units=64 , activation='relu'))\n",
    "model.add(Dropout(rate= 0.25))\n",
    "model.add(Dense(units=1 , activation='sigmoid'))\n",
    "model.summary()\n",
    "          "
   ]
  },
  {
   "cell_type": "code",
   "execution_count": 11,
   "id": "abcb007f",
   "metadata": {},
   "outputs": [],
   "source": [
    "model.compile(optimizer='adam' ,  loss=keras.losses.binary_crossentropy , metrics=['accuracy'])"
   ]
  },
  {
   "cell_type": "markdown",
   "id": "9a6acdec",
   "metadata": {},
   "source": [
    "Prepare Data "
   ]
  },
  {
   "cell_type": "code",
   "execution_count": 12,
   "id": "55b5d3b3",
   "metadata": {},
   "outputs": [],
   "source": [
    "def preprocessImg1(p):\n",
    "    image_data = ImageDataGenerator(zoom_range=0.2 , shear_range=0.2 , rescale=1/255 ,horizontal_flip=True)\n",
    "    image = image_data.flow_from_directory(directory=p , target_size=(224,224) , batch_size=32 , class_mode='binary')\n",
    "    return image"
   ]
  },
  {
   "cell_type": "code",
   "execution_count": 13,
   "id": "6969f2b1",
   "metadata": {},
   "outputs": [
    {
     "name": "stdout",
     "output_type": "stream",
     "text": [
      "Found 55 images belonging to 2 classes.\n"
     ]
    }
   ],
   "source": [
    "p =\"./train\"\n",
    "train_data = preprocessImg1(p)"
   ]
  },
  {
   "cell_type": "code",
   "execution_count": 14,
   "id": "9b1f9c37",
   "metadata": {},
   "outputs": [],
   "source": [
    "def preprocessImg2(p):\n",
    "    image_data = ImageDataGenerator(rescale=1/255)\n",
    "    image = image_data.flow_from_directory(directory=p , target_size=(224,224) , batch_size=32 , class_mode='binary')\n",
    "    return image"
   ]
  },
  {
   "cell_type": "code",
   "execution_count": 15,
   "id": "00c8bd60",
   "metadata": {},
   "outputs": [
    {
     "name": "stdout",
     "output_type": "stream",
     "text": [
      "Found 7 images belonging to 2 classes.\n"
     ]
    }
   ],
   "source": [
    "p=\"./val\"\n",
    "val_data =preprocessImg2(p)"
   ]
  },
  {
   "cell_type": "code",
   "execution_count": 16,
   "id": "3feecda4",
   "metadata": {},
   "outputs": [
    {
     "name": "stdout",
     "output_type": "stream",
     "text": [
      "Found 7 images belonging to 2 classes.\n"
     ]
    }
   ],
   "source": [
    "p=\"./test\"\n",
    "test_data = preprocessImg2(p)"
   ]
  },
  {
   "cell_type": "code",
   "execution_count": 17,
   "id": "91c462e7",
   "metadata": {},
   "outputs": [],
   "source": [
    "from keras.callbacks import ModelCheckpoint , EarlyStopping\n",
    "es = EarlyStopping(monitor=\"val_accuracy\" , min_delta=0.01 , patience=3 , verbose=1 , mode='auto')\n",
    "mc = ModelCheckpoint(monitor=\"val_accuracy\",filepath=\"./bestmodel.h5\" , verbose=1 ,save_best_only=True , model='auto')\n",
    "cd = [es,mc]"
   ]
  },
  {
   "cell_type": "markdown",
   "id": "419422e1",
   "metadata": {},
   "source": [
    "Training Model\n"
   ]
  },
  {
   "cell_type": "code",
   "execution_count": 37,
   "id": "a3d12e52",
   "metadata": {},
   "outputs": [
    {
     "name": "stdout",
     "output_type": "stream",
     "text": [
      "Epoch 1/20\n",
      "2/2 [==============================] - ETA: 0s - loss: 0.1631 - accuracy: 0.9273\n",
      "Epoch 1: val_accuracy did not improve from 1.00000\n",
      "2/2 [==============================] - 6s 2s/step - loss: 0.1631 - accuracy: 0.9273 - val_loss: 0.3653 - val_accuracy: 0.8571\n",
      "Epoch 2/20\n",
      "2/2 [==============================] - ETA: 0s - loss: 0.3221 - accuracy: 0.8909\n",
      "Epoch 2: val_accuracy did not improve from 1.00000\n",
      "2/2 [==============================] - 6s 2s/step - loss: 0.3221 - accuracy: 0.8909 - val_loss: 0.9713 - val_accuracy: 0.4286\n",
      "Epoch 3/20\n",
      "2/2 [==============================] - ETA: 0s - loss: 0.3161 - accuracy: 0.8727\n",
      "Epoch 3: val_accuracy did not improve from 1.00000\n",
      "2/2 [==============================] - 5s 3s/step - loss: 0.3161 - accuracy: 0.8727 - val_loss: 0.5471 - val_accuracy: 0.7143\n",
      "Epoch 4/20\n",
      "2/2 [==============================] - ETA: 0s - loss: 0.3468 - accuracy: 0.8727\n",
      "Epoch 4: val_accuracy did not improve from 1.00000\n",
      "2/2 [==============================] - 5s 3s/step - loss: 0.3468 - accuracy: 0.8727 - val_loss: 0.1967 - val_accuracy: 0.8571\n",
      "Epoch 4: early stopping\n"
     ]
    }
   ],
   "source": [
    "hs = model.fit_generator(generator=train_data , steps_per_epoch=2 ,epochs=20 , verbose=1 , validation_data=val_data , validation_steps=1, callbacks=cd) "
   ]
  },
  {
   "cell_type": "code",
   "execution_count": 38,
   "id": "6e659bcc",
   "metadata": {},
   "outputs": [
    {
     "data": {
      "text/plain": [
       "dict_keys(['loss', 'accuracy', 'val_loss', 'val_accuracy'])"
      ]
     },
     "execution_count": 38,
     "metadata": {},
     "output_type": "execute_result"
    }
   ],
   "source": [
    "h = hs.history\n",
    "h.keys()"
   ]
  },
  {
   "cell_type": "code",
   "execution_count": 41,
   "id": "2460d6a1",
   "metadata": {},
   "outputs": [
    {
     "data": {
      "image/png": "[encoded data removed]",
      "text/plain": [
       "<Figure size 432x288 with 1 Axes>"
      ]
     },
     "metadata": {
      "needs_background": "light"
     },
     "output_type": "display_data"
    }
   ],
   "source": [
    "import matplotlib.pyplot as plt \n",
    "plt.plot(h['accuracy'])\n",
    "plt.plot(h['val_accuracy'])\n",
    "plt.title(\"acc vs val-acc\")\n",
    "plt.show()"
   ]
  },
  {
   "cell_type": "code",
   "execution_count": 42,
   "id": "9254ecf7",
   "metadata": {},
   "outputs": [
    {
     "data": {
      "image/png": "[encoded data removed]",
      "text/plain": [
       "<Figure size 432x288 with 1 Axes>"
      ]
     },
     "metadata": {
      "needs_background": "light"
     },
     "output_type": "display_data"
    }
   ],
   "source": [
    "import matplotlib.pyplot as plt \n",
    "plt.plot(h['loss'])\n",
    "plt.plot(h['val_loss'])\n",
    "plt.title(\"loss vs val-loss\")\n",
    "plt.show()"
   ]
  },
  {
   "cell_type": "code",
   "execution_count": 51,
   "id": "9afa0935",
   "metadata": {},
   "outputs": [
    {
     "name": "stdout",
     "output_type": "stream",
     "text": [
      "the accuracy is 0.7142857313156128\n"
     ]
    }
   ],
   "source": [
    "# Acuuracy \n",
    "from keras.models import load_model\n",
    "model = load_model(\"./bestmodel.h5\")\n",
    "\n",
    "acc = model.evaluate_generator(test_data)[1]\n",
    "print(f\"the accuracy is {acc}\")"
   ]
  },
  {
   "cell_type": "code",
   "execution_count": 58,
   "id": "3f3f9f91",
   "metadata": {},
   "outputs": [
    {
     "data": {
      "text/plain": [
       "0"
      ]
     },
     "execution_count": 58,
     "metadata": {},
     "output_type": "execute_result"
    }
   ],
   "source": [
    "\n",
    "path = \"./brain_tumor_dataset/no/No13.jpg\"\n",
    "img = load_img(path, target_size=(224,224))\n",
    "input_arr = img_to_array(img)/255\n",
    "input_arr.shape\n",
    "input_arr = np.expand_dims(input_arr , axis=0)\n",
    "# pred = model.predict_classes(input_arr)\n",
    "pred = (model.predict(input_arr) > 0.5).astype(\"int32\")[0][0]\n",
    "pred\n",
    "\n"
   ]
  },
  {
   "cell_type": "code",
   "execution_count": 59,
   "id": "3449308d",
   "metadata": {},
   "outputs": [
    {
     "data": {
      "text/plain": [
       "{'no': 0, 'yes': 1}"
      ]
     },
     "execution_count": 59,
     "metadata": {},
     "output_type": "execute_result"
    }
   ],
   "source": [
    "train_data.class_indices"
   ]
  },
  {
   "cell_type": "code",
   "execution_count": 61,
   "id": "58a3a44d",
   "metadata": {},
   "outputs": [
    {
     "name": "stdout",
     "output_type": "stream",
     "text": [
      "Patient has Tumor\n"
     ]
    }
   ],
   "source": [
    "if(pred==1):\n",
    "    print(\" The patient is Healthy.ipynb\")\n",
    "else:\n",
    "    print(\"Patient has Tumor\")"
   ]
  },
  {
   "cell_type": "code",
   "execution_count": null,
   "id": "56b6ad89",
   "metadata": {},
   "outputs": [],
   "source": []
  }
 ],
 "metadata": {
  "kernelspec": {
   "display_name": "Python 3 (ipykernel)",
   "language": "python",
   "name": "python3"
  },
  "language_info": {
   "codemirror_mode": {
    "name": "ipython",
    "version": 3
   },
   "file_extension": ".py",
   "mimetype": "text/x-python",
   "name": "python",
   "nbconvert_exporter": "python",
   "pygments_lexer": "ipython3",
   "version": "3.9.12"
  }
 },
 "nbformat": 4,
 "nbformat_minor": 5
}
